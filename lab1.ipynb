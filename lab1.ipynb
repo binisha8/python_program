{
 "cells": [
  {
   "cell_type": "code",
   "execution_count": 1,
   "id": "2558b02f-c7e7-478b-9967-f36e7221dc8f",
   "metadata": {},
   "outputs": [
    {
     "name": "stdin",
     "output_type": "stream",
     "text": [
      "enter a number: 45654\n"
     ]
    },
    {
     "name": "stdout",
     "output_type": "stream",
     "text": [
      "45654  is palindrome\n"
     ]
    }
   ],
   "source": [
    "#a program to find a given number is palindrome or not?\n",
    "def palindrome(n):\n",
    "   num=str(n)\n",
    "   rev_num=num[::-1]\n",
    "   if(num==rev_num):\n",
    "      print(f\"{num}  is palindrome\")\n",
    "   else:\n",
    "      print(f\"{num} is not palindrome. \")\n",
    "number=input(\"enter a number:\")\n",
    "palindrome(number)\n"
   ]
  },
  {
   "cell_type": "code",
   "execution_count": 2,
   "id": "81bc5532-eaca-448a-b16f-48d71c567a0d",
   "metadata": {},
   "outputs": [
    {
     "name": "stdin",
     "output_type": "stream",
     "text": [
      "enter lower range: 7\n",
      "enter upper range: 90\n"
     ]
    },
    {
     "name": "stdout",
     "output_type": "stream",
     "text": [
      "prime numbers betweeen7 and 90:\n",
      "7 11 13 17 19 23 29 31 37 41 43 47 53 59 61 67 71 73 79 83 89 "
     ]
    }
   ],
   "source": [
    "#a program to find the prime number within the range\n",
    "def prime(m,n):\n",
    "    print(f\"prime numbers betweeen{m} and {n}:\")\n",
    "    for num in range(m,n+1):\n",
    "        if num>1:\n",
    "            for i in range(2,num):\n",
    "                if (num%i==0):\n",
    "                    break\n",
    "            else:\n",
    "              print(num,end=\" \")\n",
    "m=int(input(\"enter lower range:\"))\n",
    "n=int(input(\"enter upper range:\"))   \n",
    "prime(m,n)"
   ]
  },
  {
   "cell_type": "code",
   "execution_count": 3,
   "id": "ec65a5f2-cae3-490c-a53e-265715d40a89",
   "metadata": {},
   "outputs": [
    {
     "name": "stdin",
     "output_type": "stream",
     "text": [
      "Enter your guess:  89\n"
     ]
    },
    {
     "name": "stdout",
     "output_type": "stream",
     "text": [
      "You have guessed too large number.\n"
     ]
    },
    {
     "name": "stdin",
     "output_type": "stream",
     "text": [
      "Enter your guess:  7\n"
     ]
    },
    {
     "name": "stdout",
     "output_type": "stream",
     "text": [
      "You have guessed too small number.\n"
     ]
    },
    {
     "name": "stdin",
     "output_type": "stream",
     "text": [
      "Enter your guess:  50\n"
     ]
    },
    {
     "name": "stdout",
     "output_type": "stream",
     "text": [
      "You have guessed too small number.\n"
     ]
    },
    {
     "name": "stdin",
     "output_type": "stream",
     "text": [
      "Enter your guess:  55\n"
     ]
    },
    {
     "name": "stdout",
     "output_type": "stream",
     "text": [
      "You have guessed too small number.\n"
     ]
    },
    {
     "name": "stdin",
     "output_type": "stream",
     "text": [
      "Enter your guess:  60\n"
     ]
    },
    {
     "name": "stdout",
     "output_type": "stream",
     "text": [
      "You have guessed too small number.\n"
     ]
    },
    {
     "name": "stdin",
     "output_type": "stream",
     "text": [
      "Enter your guess:  70\n"
     ]
    },
    {
     "name": "stdout",
     "output_type": "stream",
     "text": [
      "You have guessed too small number.\n"
     ]
    },
    {
     "name": "stdin",
     "output_type": "stream",
     "text": [
      "Enter your guess:  80\n"
     ]
    },
    {
     "name": "stdout",
     "output_type": "stream",
     "text": [
      "You have guessed too large number.\n"
     ]
    },
    {
     "name": "stdin",
     "output_type": "stream",
     "text": [
      "Enter your guess:  75\n"
     ]
    },
    {
     "name": "stdout",
     "output_type": "stream",
     "text": [
      "You have guessed too large number.\n"
     ]
    },
    {
     "name": "stdin",
     "output_type": "stream",
     "text": [
      "Enter your guess:  72\n"
     ]
    },
    {
     "name": "stdout",
     "output_type": "stream",
     "text": [
      "You have guessed too large number.\n"
     ]
    },
    {
     "name": "stdin",
     "output_type": "stream",
     "text": [
      "Enter your guess:  71\n"
     ]
    },
    {
     "name": "stdout",
     "output_type": "stream",
     "text": [
      "Your guess is rignt!!\n"
     ]
    }
   ],
   "source": [
    "#Guessing number\n",
    "import random as rand\n",
    "n=rand.randrange(1,100)\n",
    "guess=int(input(\"Enter your guess: \"))\n",
    "\n",
    "while n!=guess:\n",
    "    if guess<n:\n",
    "        print(\"You have guessed too small number.\")\n",
    "        guess=int(input(\"Enter your guess: \"))\n",
    "    elif guess>n:\n",
    "        print(\"You have guessed too large number.\")\n",
    "        guess=int(input(\"Enter your guess: \"))\n",
    "    else:\n",
    "        break\n",
    "print(\"Your guess is rignt!!\")\n"
   ]
  },
  {
   "cell_type": "code",
   "execution_count": 4,
   "id": "4b3e5c90-3e60-4944-9afb-5cad3466a78a",
   "metadata": {},
   "outputs": [
    {
     "name": "stdin",
     "output_type": "stream",
     "text": [
      "enter a range: 8\n"
     ]
    },
    {
     "name": "stdout",
     "output_type": "stream",
     "text": [
      "fibonacci series: 0 1 1 2 3 5 8 13 "
     ]
    }
   ],
   "source": [
    "#a program to generate the Fibonacci sequence of given number\n",
    "def fibonacci(n):\n",
    "    if n>0:\n",
    "        n1=0\n",
    "        n2=1\n",
    "        print(\"fibonacci series:\",n1,n2,end=\" \")\n",
    "        for i in range(2,n):\n",
    "           n3=n1+n2\n",
    "           \n",
    "           print(n3,end=\" \")\n",
    "           n1=n2\n",
    "           n2=n3\n",
    "    else:\n",
    "        return(n)\n",
    "        \n",
    "    \n",
    "num=int(input(\"enter a range:\"))\n",
    "fibonacci(num)\n"
   ]
  },
  {
   "cell_type": "code",
   "execution_count": null,
   "id": "e9d9f1e0-4a6d-41d9-9dbc-05f42af2cb14",
   "metadata": {},
   "outputs": [],
   "source": []
  }
 ],
 "metadata": {
  "kernelspec": {
   "display_name": "Python 3 (ipykernel)",
   "language": "python",
   "name": "python3"
  },
  "language_info": {
   "codemirror_mode": {
    "name": "ipython",
    "version": 3
   },
   "file_extension": ".py",
   "mimetype": "text/x-python",
   "name": "python",
   "nbconvert_exporter": "python",
   "pygments_lexer": "ipython3",
   "version": "3.11.5"
  }
 },
 "nbformat": 4,
 "nbformat_minor": 5
}
